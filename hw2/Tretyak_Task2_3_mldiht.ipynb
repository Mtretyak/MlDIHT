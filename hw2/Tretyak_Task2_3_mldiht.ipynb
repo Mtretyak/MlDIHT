{
 "cells": [
  {
   "cell_type": "code",
   "execution_count": 1,
   "metadata": {
    "collapsed": false
   },
   "outputs": [],
   "source": [
    "from sklearn import model_selection, datasets\n",
    "from sklearn.metrics import mean_squared_error\n",
    "from pandas import DataFrame\n",
    "import matplotlib.pyplot as plt\n",
    "import numpy as np\n",
    "from sklearn.datasets import load_boston\n",
    "from sklearn import model_selection\n",
    "from sklearn.tree import DecisionTreeRegressor"
   ]
  },
  {
   "cell_type": "code",
   "execution_count": 2,
   "metadata": {
    "collapsed": false
   },
   "outputs": [
    {
     "name": "stdout",
     "output_type": "stream",
     "text": [
      "Populating the interactive namespace from numpy and matplotlib\n"
     ]
    }
   ],
   "source": [
    "%pylab inline"
   ]
  },
  {
   "cell_type": "code",
   "execution_count": 3,
   "metadata": {
    "collapsed": false
   },
   "outputs": [],
   "source": [
    "data = load_boston()\n",
    "data_frame = DataFrame(data.data)\n",
    "data_frame.columns = data.feature_names\n",
    "data_frame['target'] = data.target"
   ]
  },
  {
   "cell_type": "code",
   "execution_count": 4,
   "metadata": {
    "collapsed": false
   },
   "outputs": [
    {
     "data": {
      "text/plain": [
       "array([  6.32000000e-03,   2.73100000e-02,   2.72900000e-02,\n",
       "         3.23700000e-02,   6.90500000e-02,   2.98500000e-02,\n",
       "         8.82900000e-02,   1.44550000e-01,   2.11240000e-01,\n",
       "         1.70040000e-01,   2.24890000e-01,   1.17470000e-01,\n",
       "         9.37800000e-02,   6.29760000e-01,   6.37960000e-01,\n",
       "         6.27390000e-01,   1.05393000e+00,   7.84200000e-01,\n",
       "         8.02710000e-01,   7.25800000e-01,   1.25179000e+00,\n",
       "         8.52040000e-01,   1.23247000e+00,   9.88430000e-01,\n",
       "         7.50260000e-01,   8.40540000e-01,   6.71910000e-01,\n",
       "         9.55770000e-01,   7.72990000e-01,   1.00245000e+00,\n",
       "         1.13081000e+00,   1.35472000e+00,   1.38799000e+00,\n",
       "         1.15172000e+00,   1.61282000e+00,   6.41700000e-02,\n",
       "         9.74400000e-02,   8.01400000e-02,   1.75050000e-01,\n",
       "         2.76300000e-02,   3.35900000e-02,   1.27440000e-01,\n",
       "         1.41500000e-01,   1.59360000e-01,   1.22690000e-01,\n",
       "         1.71420000e-01,   1.88360000e-01,   2.29270000e-01,\n",
       "         2.53870000e-01,   2.19770000e-01,   8.87300000e-02,\n",
       "         4.33700000e-02,   5.36000000e-02,   4.98100000e-02,\n",
       "         1.36000000e-02,   1.31100000e-02,   2.05500000e-02,\n",
       "         1.43200000e-02,   1.54450000e-01,   1.03280000e-01,\n",
       "         1.49320000e-01,   1.71710000e-01,   1.10270000e-01,\n",
       "         1.26500000e-01,   1.95100000e-02,   3.58400000e-02,\n",
       "         4.37900000e-02,   5.78900000e-02,   1.35540000e-01,\n",
       "         1.28160000e-01,   8.82600000e-02,   1.58760000e-01,\n",
       "         9.16400000e-02,   1.95390000e-01,   7.89600000e-02,\n",
       "         9.51200000e-02,   1.01530000e-01,   8.70700000e-02,\n",
       "         5.64600000e-02,   8.38700000e-02,   4.11300000e-02,\n",
       "         4.46200000e-02,   3.65900000e-02,   3.55100000e-02,\n",
       "         5.05900000e-02,   5.73500000e-02,   5.18800000e-02,\n",
       "         7.15100000e-02,   5.66000000e-02,   5.30200000e-02,\n",
       "         4.68400000e-02,   3.93200000e-02,   4.20300000e-02,\n",
       "         2.87500000e-02,   4.29400000e-02,   1.22040000e-01,\n",
       "         1.15040000e-01,   1.20830000e-01,   8.18700000e-02,\n",
       "         6.86000000e-02,   1.48660000e-01,   1.14320000e-01,\n",
       "         2.28760000e-01,   2.11610000e-01,   1.39600000e-01,\n",
       "         1.32620000e-01,   1.71200000e-01,   1.31170000e-01,\n",
       "         1.28020000e-01,   2.63630000e-01,   1.07930000e-01,\n",
       "         1.00840000e-01,   1.23290000e-01,   2.22120000e-01,\n",
       "         1.42310000e-01,   1.71340000e-01,   1.31580000e-01,\n",
       "         1.50980000e-01,   1.30580000e-01,   1.44760000e-01,\n",
       "         6.89900000e-02,   7.16500000e-02,   9.29900000e-02,\n",
       "         1.50380000e-01,   9.84900000e-02,   1.69020000e-01,\n",
       "         3.87350000e-01,   2.59150000e-01,   3.25430000e-01,\n",
       "         8.81250000e-01,   3.40060000e-01,   1.19294000e+00,\n",
       "         5.90050000e-01,   3.29820000e-01,   9.76170000e-01,\n",
       "         5.57780000e-01,   3.22640000e-01,   3.52330000e-01,\n",
       "         2.49800000e-01,   5.44520000e-01,   2.90900000e-01,\n",
       "         1.62864000e+00,   3.32105000e+00,   4.09740000e+00,\n",
       "         2.77974000e+00,   2.37934000e+00,   2.15505000e+00,\n",
       "         2.36862000e+00,   2.33099000e+00,   2.73397000e+00,\n",
       "         1.65660000e+00,   1.49632000e+00,   1.12658000e+00,\n",
       "         2.14918000e+00,   1.41385000e+00,   3.53501000e+00,\n",
       "         2.44668000e+00,   1.22358000e+00,   1.34284000e+00,\n",
       "         1.42502000e+00,   1.27346000e+00,   1.46336000e+00,\n",
       "         1.83377000e+00,   1.51902000e+00,   2.24236000e+00,\n",
       "         2.92400000e+00,   2.01019000e+00,   1.80028000e+00,\n",
       "         2.30040000e+00,   2.44953000e+00,   1.20742000e+00,\n",
       "         2.31390000e+00,   1.39140000e-01,   9.17800000e-02,\n",
       "         8.44700000e-02,   6.66400000e-02,   7.02200000e-02,\n",
       "         5.42500000e-02,   6.64200000e-02,   5.78000000e-02,\n",
       "         6.58800000e-02,   6.88800000e-02,   9.10300000e-02,\n",
       "         1.00080000e-01,   8.30800000e-02,   6.04700000e-02,\n",
       "         5.60200000e-02,   7.87500000e-02,   1.25790000e-01,\n",
       "         8.37000000e-02,   9.06800000e-02,   6.91100000e-02,\n",
       "         8.66400000e-02,   2.18700000e-02,   1.43900000e-02,\n",
       "         1.38100000e-02,   4.01100000e-02,   4.66600000e-02,\n",
       "         3.76800000e-02,   3.15000000e-02,   1.77800000e-02,\n",
       "         3.44500000e-02,   2.17700000e-02,   3.51000000e-02,\n",
       "         2.00900000e-02,   1.36420000e-01,   2.29690000e-01,\n",
       "         2.51990000e-01,   1.35870000e-01,   4.35710000e-01,\n",
       "         1.74460000e-01,   3.75780000e-01,   2.17190000e-01,\n",
       "         1.40520000e-01,   2.89550000e-01,   1.98020000e-01,\n",
       "         4.56000000e-02,   7.01300000e-02,   1.10690000e-01,\n",
       "         1.14250000e-01,   3.58090000e-01,   4.07710000e-01,\n",
       "         6.23560000e-01,   6.14700000e-01,   3.15330000e-01,\n",
       "         5.26930000e-01,   3.82140000e-01,   4.12380000e-01,\n",
       "         2.98190000e-01,   4.41780000e-01,   5.37000000e-01,\n",
       "         4.62960000e-01,   5.75290000e-01,   3.31470000e-01,\n",
       "         4.47910000e-01,   3.30450000e-01,   5.20580000e-01,\n",
       "         5.11830000e-01,   8.24400000e-02,   9.25200000e-02,\n",
       "         1.13290000e-01,   1.06120000e-01,   1.02900000e-01,\n",
       "         1.27570000e-01,   2.06080000e-01,   1.91330000e-01,\n",
       "         3.39830000e-01,   1.96570000e-01,   1.64390000e-01,\n",
       "         1.90730000e-01,   1.40300000e-01,   2.14090000e-01,\n",
       "         8.22100000e-02,   3.68940000e-01,   4.81900000e-02,\n",
       "         3.54800000e-02,   1.53800000e-02,   6.11540000e-01,\n",
       "         6.63510000e-01,   6.56650000e-01,   5.40110000e-01,\n",
       "         5.34120000e-01,   5.20140000e-01,   8.25260000e-01,\n",
       "         5.50070000e-01,   7.61620000e-01,   7.85700000e-01,\n",
       "         5.78340000e-01,   5.40500000e-01,   9.06500000e-02,\n",
       "         2.99160000e-01,   1.62110000e-01,   1.14600000e-01,\n",
       "         2.21880000e-01,   5.64400000e-02,   9.60400000e-02,\n",
       "         1.04690000e-01,   6.12700000e-02,   7.97800000e-02,\n",
       "         2.10380000e-01,   3.57800000e-02,   3.70500000e-02,\n",
       "         6.12900000e-02,   1.50100000e-02,   9.06000000e-03,\n",
       "         1.09600000e-02,   1.96500000e-02,   3.87100000e-02,\n",
       "         4.59000000e-02,   4.29700000e-02,   3.50200000e-02,\n",
       "         7.88600000e-02,   3.61500000e-02,   8.26500000e-02,\n",
       "         8.19900000e-02,   1.29320000e-01,   5.37200000e-02,\n",
       "         1.41030000e-01,   6.46600000e-02,   5.56100000e-02,\n",
       "         4.41700000e-02,   3.53700000e-02,   9.26600000e-02,\n",
       "         1.00000000e-01,   5.51500000e-02,   5.47900000e-02,\n",
       "         7.50300000e-02,   4.93200000e-02,   4.92980000e-01,\n",
       "         3.49400000e-01,   2.63548000e+00,   7.90410000e-01,\n",
       "         2.61690000e-01,   2.69380000e-01,   3.69200000e-01,\n",
       "         2.53560000e-01,   3.18270000e-01,   2.45220000e-01,\n",
       "         4.02020000e-01,   4.75470000e-01,   1.67600000e-01,\n",
       "         1.81590000e-01,   3.51140000e-01,   2.83920000e-01,\n",
       "         3.41090000e-01,   1.91860000e-01,   3.03470000e-01,\n",
       "         2.41030000e-01,   6.61700000e-02,   6.72400000e-02,\n",
       "         4.54400000e-02,   5.02300000e-02,   3.46600000e-02,\n",
       "         5.08300000e-02,   3.73800000e-02,   3.96100000e-02,\n",
       "         3.42700000e-02,   3.04100000e-02,   3.30600000e-02,\n",
       "         5.49700000e-02,   6.15100000e-02,   1.30100000e-02,\n",
       "         2.49800000e-02,   2.54300000e-02,   3.04900000e-02,\n",
       "         3.11300000e-02,   6.16200000e-02,   1.87000000e-02,\n",
       "         1.50100000e-02,   2.89900000e-02,   6.21100000e-02,\n",
       "         7.95000000e-02,   7.24400000e-02,   1.70900000e-02,\n",
       "         4.30100000e-02,   1.06590000e-01,   8.98296000e+00,\n",
       "         3.84970000e+00,   5.20177000e+00,   4.26131000e+00,\n",
       "         4.54192000e+00,   3.83684000e+00,   3.67822000e+00,\n",
       "         4.22239000e+00,   3.47428000e+00,   4.55587000e+00,\n",
       "         3.69695000e+00,   1.35222000e+01,   4.89822000e+00,\n",
       "         5.66998000e+00,   6.53876000e+00,   9.23230000e+00,\n",
       "         8.26725000e+00,   1.11081000e+01,   1.84982000e+01,\n",
       "         1.96091000e+01,   1.52880000e+01,   9.82349000e+00,\n",
       "         2.36482000e+01,   1.78667000e+01,   8.89762000e+01,\n",
       "         1.58744000e+01,   9.18702000e+00,   7.99248000e+00,\n",
       "         2.00849000e+01,   1.68118000e+01,   2.43938000e+01,\n",
       "         2.25971000e+01,   1.43337000e+01,   8.15174000e+00,\n",
       "         6.96215000e+00,   5.29305000e+00,   1.15779000e+01,\n",
       "         8.64476000e+00,   1.33598000e+01,   8.71675000e+00,\n",
       "         5.87205000e+00,   7.67202000e+00,   3.83518000e+01,\n",
       "         9.91655000e+00,   2.50461000e+01,   1.42362000e+01,\n",
       "         9.59571000e+00,   2.48017000e+01,   4.15292000e+01,\n",
       "         6.79208000e+01,   2.07162000e+01,   1.19511000e+01,\n",
       "         7.40389000e+00,   1.44383000e+01,   5.11358000e+01,\n",
       "         1.40507000e+01,   1.88110000e+01,   2.86558000e+01,\n",
       "         4.57461000e+01,   1.80846000e+01,   1.08342000e+01,\n",
       "         2.59406000e+01,   7.35341000e+01,   1.18123000e+01,\n",
       "         1.10874000e+01,   7.02259000e+00,   1.20482000e+01,\n",
       "         7.05042000e+00,   8.79212000e+00,   1.58603000e+01,\n",
       "         1.22472000e+01,   3.76619000e+01,   7.36711000e+00,\n",
       "         9.33889000e+00,   8.49213000e+00,   1.00623000e+01,\n",
       "         6.44405000e+00,   5.58107000e+00,   1.39134000e+01,\n",
       "         1.11604000e+01,   1.44208000e+01,   1.51772000e+01,\n",
       "         1.36781000e+01,   9.39063000e+00,   2.20511000e+01,\n",
       "         9.72418000e+00,   5.66637000e+00,   9.96654000e+00,\n",
       "         1.28023000e+01,   6.71800000e-01,   6.28807000e+00,\n",
       "         9.92485000e+00,   9.32909000e+00,   7.52601000e+00,\n",
       "         6.71772000e+00,   5.44114000e+00,   5.09017000e+00,\n",
       "         8.24809000e+00,   9.51363000e+00,   4.75237000e+00,\n",
       "         4.66883000e+00,   8.20058000e+00,   7.75223000e+00,\n",
       "         6.80117000e+00,   4.81213000e+00,   3.69311000e+00,\n",
       "         6.65492000e+00,   5.82115000e+00,   7.83932000e+00,\n",
       "         3.16360000e+00,   3.77498000e+00,   4.42228000e+00,\n",
       "         1.55757000e+01,   1.30751000e+01,   4.34879000e+00,\n",
       "         4.03841000e+00,   3.56868000e+00,   4.64689000e+00,\n",
       "         8.05579000e+00,   6.39312000e+00,   4.87141000e+00,\n",
       "         1.50234000e+01,   1.02330000e+01,   1.43337000e+01,\n",
       "         5.82401000e+00,   5.70818000e+00,   5.73116000e+00,\n",
       "         2.81838000e+00,   2.37857000e+00,   3.67367000e+00,\n",
       "         5.69175000e+00,   4.83567000e+00,   1.50860000e-01,\n",
       "         1.83370000e-01,   2.07460000e-01,   1.05740000e-01,\n",
       "         1.11320000e-01,   1.73310000e-01,   2.79570000e-01,\n",
       "         1.78990000e-01,   2.89600000e-01,   2.68380000e-01,\n",
       "         2.39120000e-01,   1.77830000e-01,   2.24380000e-01,\n",
       "         6.26300000e-02,   4.52700000e-02,   6.07600000e-02,\n",
       "         1.09590000e-01,   4.74100000e-02])"
      ]
     },
     "execution_count": 4,
     "metadata": {},
     "output_type": "execute_result"
    }
   ],
   "source": [
    "data.data[:,0]"
   ]
  },
  {
   "cell_type": "code",
   "execution_count": 5,
   "metadata": {
    "collapsed": false
   },
   "outputs": [
    {
     "data": {
      "text/html": [
       "<div>\n",
       "<table border=\"1\" class=\"dataframe\">\n",
       "  <thead>\n",
       "    <tr style=\"text-align: right;\">\n",
       "      <th></th>\n",
       "      <th>CRIM</th>\n",
       "      <th>ZN</th>\n",
       "      <th>INDUS</th>\n",
       "      <th>CHAS</th>\n",
       "      <th>NOX</th>\n",
       "      <th>RM</th>\n",
       "      <th>AGE</th>\n",
       "      <th>DIS</th>\n",
       "      <th>RAD</th>\n",
       "      <th>TAX</th>\n",
       "      <th>PTRATIO</th>\n",
       "      <th>B</th>\n",
       "      <th>LSTAT</th>\n",
       "      <th>target</th>\n",
       "    </tr>\n",
       "  </thead>\n",
       "  <tbody>\n",
       "    <tr>\n",
       "      <th>0</th>\n",
       "      <td>0.00632</td>\n",
       "      <td>18.0</td>\n",
       "      <td>2.31</td>\n",
       "      <td>0.0</td>\n",
       "      <td>0.538</td>\n",
       "      <td>6.575</td>\n",
       "      <td>65.2</td>\n",
       "      <td>4.0900</td>\n",
       "      <td>1.0</td>\n",
       "      <td>296.0</td>\n",
       "      <td>15.3</td>\n",
       "      <td>396.90</td>\n",
       "      <td>4.98</td>\n",
       "      <td>24.0</td>\n",
       "    </tr>\n",
       "    <tr>\n",
       "      <th>1</th>\n",
       "      <td>0.02731</td>\n",
       "      <td>0.0</td>\n",
       "      <td>7.07</td>\n",
       "      <td>0.0</td>\n",
       "      <td>0.469</td>\n",
       "      <td>6.421</td>\n",
       "      <td>78.9</td>\n",
       "      <td>4.9671</td>\n",
       "      <td>2.0</td>\n",
       "      <td>242.0</td>\n",
       "      <td>17.8</td>\n",
       "      <td>396.90</td>\n",
       "      <td>9.14</td>\n",
       "      <td>21.6</td>\n",
       "    </tr>\n",
       "    <tr>\n",
       "      <th>2</th>\n",
       "      <td>0.02729</td>\n",
       "      <td>0.0</td>\n",
       "      <td>7.07</td>\n",
       "      <td>0.0</td>\n",
       "      <td>0.469</td>\n",
       "      <td>7.185</td>\n",
       "      <td>61.1</td>\n",
       "      <td>4.9671</td>\n",
       "      <td>2.0</td>\n",
       "      <td>242.0</td>\n",
       "      <td>17.8</td>\n",
       "      <td>392.83</td>\n",
       "      <td>4.03</td>\n",
       "      <td>34.7</td>\n",
       "    </tr>\n",
       "    <tr>\n",
       "      <th>3</th>\n",
       "      <td>0.03237</td>\n",
       "      <td>0.0</td>\n",
       "      <td>2.18</td>\n",
       "      <td>0.0</td>\n",
       "      <td>0.458</td>\n",
       "      <td>6.998</td>\n",
       "      <td>45.8</td>\n",
       "      <td>6.0622</td>\n",
       "      <td>3.0</td>\n",
       "      <td>222.0</td>\n",
       "      <td>18.7</td>\n",
       "      <td>394.63</td>\n",
       "      <td>2.94</td>\n",
       "      <td>33.4</td>\n",
       "    </tr>\n",
       "    <tr>\n",
       "      <th>4</th>\n",
       "      <td>0.06905</td>\n",
       "      <td>0.0</td>\n",
       "      <td>2.18</td>\n",
       "      <td>0.0</td>\n",
       "      <td>0.458</td>\n",
       "      <td>7.147</td>\n",
       "      <td>54.2</td>\n",
       "      <td>6.0622</td>\n",
       "      <td>3.0</td>\n",
       "      <td>222.0</td>\n",
       "      <td>18.7</td>\n",
       "      <td>396.90</td>\n",
       "      <td>5.33</td>\n",
       "      <td>36.2</td>\n",
       "    </tr>\n",
       "  </tbody>\n",
       "</table>\n",
       "</div>"
      ],
      "text/plain": [
       "      CRIM    ZN  INDUS  CHAS    NOX     RM   AGE     DIS  RAD    TAX  \\\n",
       "0  0.00632  18.0   2.31   0.0  0.538  6.575  65.2  4.0900  1.0  296.0   \n",
       "1  0.02731   0.0   7.07   0.0  0.469  6.421  78.9  4.9671  2.0  242.0   \n",
       "2  0.02729   0.0   7.07   0.0  0.469  7.185  61.1  4.9671  2.0  242.0   \n",
       "3  0.03237   0.0   2.18   0.0  0.458  6.998  45.8  6.0622  3.0  222.0   \n",
       "4  0.06905   0.0   2.18   0.0  0.458  7.147  54.2  6.0622  3.0  222.0   \n",
       "\n",
       "   PTRATIO       B  LSTAT  target  \n",
       "0     15.3  396.90   4.98    24.0  \n",
       "1     17.8  396.90   9.14    21.6  \n",
       "2     17.8  392.83   4.03    34.7  \n",
       "3     18.7  394.63   2.94    33.4  \n",
       "4     18.7  396.90   5.33    36.2  "
      ]
     },
     "execution_count": 5,
     "metadata": {},
     "output_type": "execute_result"
    }
   ],
   "source": [
    "data_frame.head()"
   ]
  },
  {
   "cell_type": "code",
   "execution_count": 6,
   "metadata": {
    "collapsed": false
   },
   "outputs": [],
   "source": [
    "X_train, X_test, y_train, y_test = model_selection.train_test_split(data.data, data.target, test_size = 0.25)\n"
   ]
  },
  {
   "cell_type": "code",
   "execution_count": 7,
   "metadata": {
    "collapsed": false
   },
   "outputs": [],
   "source": [
    "def H(X,left,right):\n",
    "    return float(len(left)) / len(X) * left.var() + float(len(right)) / len(X) * right.var()"
   ]
  },
  {
   "cell_type": "code",
   "execution_count": 8,
   "metadata": {
    "collapsed": false
   },
   "outputs": [],
   "source": [
    "class Tree:\n",
    "    class Node:\n",
    "        def __init__(self, j =-1,t=-1, y_mean=0, depth=1):\n",
    "            self.j = j\n",
    "            self.t = t\n",
    "            self.y_mean = y_mean\n",
    "            self.left = None\n",
    "            self.right = None\n",
    "            self.depth = depth\n",
    "    \n",
    "    def __init__(self, max_depth=0):\n",
    "        self.left = None\n",
    "        self.right = None\n",
    "        self.max_depth = max_depth\n",
    "        self.root = self.Node()\n",
    " \n",
    "    def _fit(self,node,X,y):  \n",
    "        if node.depth != self.max_depth and y.var():\n",
    "            cur_H = 0\n",
    "            cur_j, cur_t = -1, -1\n",
    "            for j in range(len(X[0])):\n",
    "                for t in X[:,j]:\n",
    "                    left = y[X[:, j] <  t]\n",
    "                    right = y[X[:, j] >= t]\n",
    "                    if (len(left) == 0):\n",
    "                        continue\n",
    "                    _H = H(X,left,right)\n",
    "                    if cur_H == 0 or  _H < cur_H :\n",
    "                        cur_H = _H\n",
    "                        cur_j = j\n",
    "                        cur_t = t\n",
    "            node.j = cur_j\n",
    "            node.t = cur_t\n",
    "            left = X[:, node.j] < node.t\n",
    "            right = X[:, node.j] >= node.t\n",
    "            if len(X[right]) > 0 and len(X[left]) > 0: \n",
    "                node.right = self.Node(depth=node.depth + 1)\n",
    "                node.left = self.Node(depth=node.depth + 1)\n",
    "                self._fit(node.left,X[left],y[left])\n",
    "                self._fit(node.right,X[right],y[right])\n",
    "        else:\n",
    "            node.y_mean = y.mean()\n",
    "            \n",
    "    def fit(self,X,y):\n",
    "        self._fit(self.root,X,y)\n",
    "        \n",
    "    def split(self,X,j,t,y):\n",
    "        left = X[:, j] <  t\n",
    "        right = X[:, j] >= t\n",
    "        return X[left], y[left], X[right], y[right]\n",
    "    \n",
    "    def _predict(self,X, node):\n",
    "        if node.left is None:\n",
    "            return node.y_mean\n",
    "        l, l_ix, r, r_ix = self.split(X, node.j, node.t, np.arange(len(X)))\n",
    "        y = np.zeros(len(X))\n",
    "        y[l_ix] = self._predict(l, node.left)\n",
    "        y[r_ix] = self._predict(r, node.right)\n",
    "        return y\n",
    "    def predict(self,X):        \n",
    "        return self._predict(X, self.root)"
   ]
  },
  {
   "cell_type": "code",
   "execution_count": 9,
   "metadata": {
    "collapsed": false
   },
   "outputs": [],
   "source": [
    "tree = Tree(max_depth = 10)"
   ]
  },
  {
   "cell_type": "code",
   "execution_count": 10,
   "metadata": {
    "collapsed": false
   },
   "outputs": [],
   "source": [
    "tree.fit(X_train,y_train)"
   ]
  },
  {
   "cell_type": "code",
   "execution_count": 11,
   "metadata": {
    "collapsed": false
   },
   "outputs": [],
   "source": [
    "answer = tree.predict(X_test)"
   ]
  },
  {
   "cell_type": "markdown",
   "metadata": {},
   "source": [
    "Сравнение с sclearn tree"
   ]
  },
  {
   "cell_type": "code",
   "execution_count": 12,
   "metadata": {
    "collapsed": false
   },
   "outputs": [
    {
     "data": {
      "text/plain": [
       "23.02680677510974"
      ]
     },
     "execution_count": 12,
     "metadata": {},
     "output_type": "execute_result"
    }
   ],
   "source": [
    "mean_squared_error(y_test, answer)\n"
   ]
  },
  {
   "cell_type": "code",
   "execution_count": 13,
   "metadata": {
    "collapsed": false
   },
   "outputs": [
    {
     "data": {
      "text/plain": [
       "12.858021967864341"
      ]
     },
     "execution_count": 13,
     "metadata": {},
     "output_type": "execute_result"
    }
   ],
   "source": [
    "DesTree = DecisionTreeRegressor(max_depth=10)\n",
    "DesTree.fit(X_train, y_train)\n",
    "DesAnswer = DesTree.predict(X_test)\n",
    "mean_squared_error(y_test, DesAnswer)"
   ]
  },
  {
   "cell_type": "code",
   "execution_count": 14,
   "metadata": {
    "collapsed": false
   },
   "outputs": [],
   "source": [
    "arr = []\n",
    "sklearn_arr = []\n",
    "for d in range(2, 10):\n",
    "    DesTree = DecisionTreeRegressor(max_depth=d)\n",
    "    DesTree.fit(X_train, y_train)\n",
    "    DesAnswer = DesTree.predict(X_test)\n",
    "    sklearn_arr.append(mean_squared_error(y_test, DesAnswer)) \n",
    "    tree = Tree(max_depth = d)\n",
    "    tree.fit(X_train,y_train)\n",
    "    answer = tree.predict(X_test)\n",
    "    MSE = mean_squared_error(y_test, answer)\n",
    "    arr.append(MSE)"
   ]
  },
  {
   "cell_type": "code",
   "execution_count": 16,
   "metadata": {
    "collapsed": false
   },
   "outputs": [
    {
     "data": {
      "image/png": "[encoded data removed]",
      "text/plain": [
       "<matplotlib.figure.Figure at 0xb6e8710>"
      ]
     },
     "metadata": {},
     "output_type": "display_data"
    }
   ],
   "source": [
    "plt.plot(range(2, 10), arr, label='tree')\n",
    "plt.plot(range(2, 10), sklearn_arr, label='sklearn_tree')\n",
    "plt.legend(loc='best')\n",
    "plt.show()"
   ]
  },
  {
   "cell_type": "markdown",
   "metadata": {},
   "source": [
    "Таким образом, написанное дерево работает не намного хуже, чем из sclearn"
   ]
  }
 ],
 "metadata": {
  "kernelspec": {
   "display_name": "Python 2.7",
   "language": "python",
   "name": "python2"
  },
  "language_info": {
   "codemirror_mode": {
    "name": "ipython",
    "version": 3
   },
   "file_extension": ".py",
   "mimetype": "text/x-python",
   "name": "python",
   "nbconvert_exporter": "python",
   "pygments_lexer": "ipython3",
   "version": "3.5.2"
  }
 },
 "nbformat": 4,
 "nbformat_minor": 2
}
