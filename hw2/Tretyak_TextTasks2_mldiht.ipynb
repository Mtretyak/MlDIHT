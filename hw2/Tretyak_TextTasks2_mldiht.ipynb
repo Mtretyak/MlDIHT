{
 "cells": [
  {
   "cell_type": "markdown",
   "metadata": {},
   "source": [
    "1) Рассматривая фиксированный лист\n",
    "$\n",
    "\\frac{1}{n}E(\\sum_{k=1}^nx-x_i)^2=\\frac{1}{n}\\sum_{k=1}^n(Ex^2 - 2x_kEx + x_k^2)= Ex^2 - (Ex)^2 + \n",
    "\\frac{1}{n}\\sum_{k=1}^n((Ex)^2 - 2x_kEx + x_k^2) = Dx + \\frac{1}{n}\\sum_{k=1}^n(\\bar{x} - x_k)^2 \\ge \\frac{1}{n}\\sum_{k=1}^n(\\bar{x} - x_k)^2\n",
    "$\n",
    ", т.к. \n",
    "$\n",
    "Ex = \\sum_{k=1}^nx_kP(x = x_k) = \\bar{x}\n",
    "$"
   ]
  },
  {
   "cell_type": "markdown",
   "metadata": {},
   "source": [
    "3)$\n",
    "-\\iint\\limits f(\\bar{x})lnf(\\bar{x}) d\\bar{x}= \\frac{ln((2\\pi)^k|\\Sigma|)}{2}\\iint\\limits f(\\bar{x})d\\bar{x} + \\frac{\\iint\\limits (\\bar{x}-\\mu)^T \\Sigma^{-1}(\\bar{x}-\\mu) f(\\bar{x})d\\bar{x}}{2} = \\frac{ln((2\\pi)^k|\\Sigma|)}{2} + \\frac{E(\\bar{x}-\\mu)^T \\Sigma^{-1}(\\bar{x}-\\mu)}{2} = \\frac{ln((2\\pi)^k|\\Sigma|)}{2} + \\frac{\\sum_{i,j=1}^k E(x_i - \\mu_i)(x_j - \\mu_j) * \\sigma^{-1}_{ji}}{2} = \\frac{ln((2\\pi)^k|\\Sigma|)}{2} + \\frac{\\sum_{i,j=1}^k \\sigma_{ij} * \\sigma^{-1}_{ji}}{2} = \\frac{ln((2\\pi)^k|\\Sigma|)}{2} + \\frac{k}{2}(след E) = \\frac{ln((2\\pi e)^k|\\Sigma|}{2}\n",
    "$\n"
   ]
  },
  {
   "cell_type": "code",
   "execution_count": null,
   "metadata": {
    "collapsed": true
   },
   "outputs": [],
   "source": []
  }
 ],
 "metadata": {
  "kernelspec": {
   "display_name": "Python 2",
   "language": "python",
   "name": "python2"
  },
  "language_info": {
   "codemirror_mode": {
    "name": "ipython",
    "version": 2
   },
   "file_extension": ".py",
   "mimetype": "text/x-python",
   "name": "python",
   "nbconvert_exporter": "python",
   "pygments_lexer": "ipython2",
   "version": "2.7.13"
  }
 },
 "nbformat": 4,
 "nbformat_minor": 2
}
