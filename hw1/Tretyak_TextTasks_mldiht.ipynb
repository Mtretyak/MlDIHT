{
 "cells": [
  {
   "cell_type": "markdown",
   "metadata": {},
   "source": [
    "1)При одинаковых априорных вероятностях, для классификации необходимо найти\n",
    "$\n",
    "\\arg\\max_{y} \\prod_{k=1}^n e^{-\\frac{(x_k - \\mu_{yk})^2}{2\\sigma^2}} = \\arg\\max_{y} e^{-\\frac{\\sum_{k=1}^n(x_k - \\mu_{yk})^2}{2\\sigma^2}} \n",
    "$ \n",
    "Таким образом, классификация сводится к отнесению объекта x класс y, центр которого ближе всего к x.\n"
   ]
  },
  {
   "cell_type": "markdown",
   "metadata": {},
   "source": [
    "2)TPR = $\\frac{TP}{TP + FN} $\n",
    "\n",
    "$\n",
    "FPR = \\frac{FP}{FP + TN}\n",
    "$\n",
    "\n",
    "Пусть всего k единиц\n",
    "\n",
    "$\n",
    "\\xi\t\\sim bern(p), TP = \\sum_{i=1}^k \\xi_i, FN =\\sum_{i=1}^k 1 -\\xi_i.\n",
    "ETRP  = \\frac{kp}{k} = p\n",
    "$\n",
    "\n",
    "Аналогично, \n",
    "$\n",
    "FP = \\sum_{i=1}^{n-k} \\xi_i, TN =\\sum_{i=1}^{n-k} 1 - \\xi_i, EFPR = \\frac{(n-k)p}{n-k} = p\n",
    "$\n",
    "\n",
    "Тогда, в среднем, мы будем попадать на прямую y = x, а значит, что площадь под графиком равна 0.5\n"
   ]
  },
  {
   "cell_type": "markdown",
   "metadata": {},
   "source": [
    "3)"
   ]
  }
 ],
 "metadata": {
  "kernelspec": {
   "display_name": "Python 2",
   "language": "python",
   "name": "python2"
  },
  "language_info": {
   "codemirror_mode": {
    "name": "ipython",
    "version": 2
   },
   "file_extension": ".py",
   "mimetype": "text/x-python",
   "name": "python",
   "nbconvert_exporter": "python",
   "pygments_lexer": "ipython2",
   "version": "2.7.13"
  }
 },
 "nbformat": 4,
 "nbformat_minor": 2
}
