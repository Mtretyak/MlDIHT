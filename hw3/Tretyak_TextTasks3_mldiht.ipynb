{
 "cells": [
  {
   "cell_type": "markdown",
   "metadata": {},
   "source": [
    "3)\n",
    "$\n",
    "\\frac{1}{n^2}D(\\sum_{k=1}^nx_i)^2=\\frac{1}{n^2}\\sum_{k=1}^nDx_i + \\sum_{k,i=1,i \\ne j}^ncov(x_i,x_j)= \\frac{\\sigma^2}{n} + \\frac{(n-1)\\rho \\sigma^2}{n} = \\sigma^2\\rho + \\frac{\\sigma^2}{n}(1-\\rho)\n",
    "$\n"
   ]
  },
  {
   "cell_type": "markdown",
   "metadata": {},
   "source": [
    "1 и 2 задача - задачи 1 и 3 из bias_variance.pdf соответственно"
   ]
  }
 ],
 "metadata": {
  "kernelspec": {
   "display_name": "Python 2",
   "language": "python",
   "name": "python2"
  },
  "language_info": {
   "codemirror_mode": {
    "name": "ipython",
    "version": 2
   },
   "file_extension": ".py",
   "mimetype": "text/x-python",
   "name": "python",
   "nbconvert_exporter": "python",
   "pygments_lexer": "ipython2",
   "version": "2.7.13"
  }
 },
 "nbformat": 4,
 "nbformat_minor": 2
}
